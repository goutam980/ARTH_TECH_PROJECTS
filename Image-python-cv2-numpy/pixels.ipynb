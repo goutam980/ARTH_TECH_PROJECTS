{
 "cells": [
  {
   "cell_type": "code",
   "execution_count": 1,
   "id": "dimensional-spine",
   "metadata": {},
   "outputs": [],
   "source": [
    "import numpy, cv2"
   ]
  },
  {
   "cell_type": "code",
   "execution_count": 2,
   "id": "becoming-literature",
   "metadata": {},
   "outputs": [],
   "source": [
    "img = numpy.zeros((600,600,3))"
   ]
  },
  {
   "cell_type": "code",
   "execution_count": 3,
   "id": "applicable-crossing",
   "metadata": {},
   "outputs": [],
   "source": [
    "img = img.astype('uint8')"
   ]
  },
  {
   "cell_type": "code",
   "execution_count": 4,
   "id": "metropolitan-earth",
   "metadata": {},
   "outputs": [],
   "source": [
    "# Creating an Image\n",
    "img[:]=[255,255,255]\n",
    "img[100:295,100:295] = [0,0,0]\n",
    "img[110:285,110:285] = [255,0,255]\n",
    "img[100:295,305:500] = [0,0,0]\n",
    "img[110:285,315:490] = [255,255,0]\n",
    "img[305:500,100:295] = [0,0,0]\n",
    "img[315:490,110:285] = [0,255,0]\n",
    "img[305:500,305:500] = [0,0,0]\n",
    "img[315:490,315:490] = [255,0,0]\n",
    "# circle using equation\n",
    "for y in range(150, 450):\n",
    "    for x in range(150, 450):\n",
    "        if (x-300)**2 < 22500 - (y-300)**2:\n",
    "            if (x-300)**2 < 19600 - (y-300)**2:\n",
    "                if x < 295 and y < 295:\n",
    "                    img[x,y] = [255,0,0]\n",
    "                elif x < 295 and y > 305:\n",
    "                    img[x,y] = [0,255,0]\n",
    "                elif x > 305 and y < 295:\n",
    "                    img[x,y] = [255,255,0]\n",
    "                elif x > 305 and y > 305:\n",
    "                    img[x,y] = [255,0,255]\n",
    "                else:\n",
    "                    img[x,y] = [0,0,0]\n",
    "            else:\n",
    "                img[x,y] = [0,0,0]\n",
    "cv2.imshow(\"Hey\", img)\n",
    "cv2.waitKey(1)\n",
    "cv2.waitKey()\n",
    "cv2.destroyAllWindows()"
   ]
  },
  {
   "cell_type": "code",
   "execution_count": 5,
   "id": "legal-mitchell",
   "metadata": {},
   "outputs": [],
   "source": [
    "img2 = numpy.zeros((600,600,3), numpy.uint8)"
   ]
  },
  {
   "cell_type": "code",
   "execution_count": 6,
   "id": "discrete-cradle",
   "metadata": {},
   "outputs": [],
   "source": [
    "# Animate - Sun Rise\n",
    "v = 0\n",
    "while v <= 350:\n",
    "    if v <= 255:\n",
    "        img2[:] = [v,v,v]\n",
    "    else: \n",
    "        img2[:] = [255,255,255]\n",
    "    # circle using function\n",
    "    cv2.circle(img2,(300,650-v),100,[0,v,255], thickness=-1)\n",
    "    cv2.imshow(\"Rise\", img2)\n",
    "    cv2.waitKey(5)\n",
    "    v += 1\n",
    "img2[150:450,300] = [0,255,255]\n",
    "img2[300,150:450] = [0,255,255]\n",
    "# line using equation\n",
    "for x in range(185,415):\n",
    "    for y in range(185,415):\n",
    "        if x == y:\n",
    "            img2[x,y] = [0,255,255]\n",
    "        elif x + y == 600:\n",
    "            img2[x,y] = [0,255,255]\n",
    "# line using function\n",
    "cv2.line(img2, (250,175), (350,425), [0,255,255],2)\n",
    "cv2.line(img2, (350,175), (250,425), [0,255,255],2)\n",
    "cv2.line(img2, (425,250), (175,350), [0,255,255],2)\n",
    "cv2.line(img2, (175,250), (425,350), [0,255,255],2)\n",
    "cv2.imshow(\"Rise\", img2)    \n",
    "cv2.waitKey()    \n",
    "cv2.destroyAllWindows()"
   ]
  },
  {
   "cell_type": "code",
   "execution_count": 7,
   "id": "german-jesus",
   "metadata": {},
   "outputs": [],
   "source": [
    "# Image Cropping"
   ]
  },
  {
   "cell_type": "code",
   "execution_count": 8,
   "id": "different-paraguay",
   "metadata": {},
   "outputs": [],
   "source": [
    "photo1 = cv2.imread(\"simplecharacter.jpg\")\n",
    "photo2 = cv2.imread(\"2dcharacter.png\")"
   ]
  },
  {
   "cell_type": "code",
   "execution_count": 9,
   "id": "duplicate-treasury",
   "metadata": {},
   "outputs": [],
   "source": [
    "cv2.imshow(\"photo1\", photo1)\n",
    "cv2.imshow(\"photo2\", photo2)\n",
    "cv2.waitKey()    \n",
    "cv2.destroyAllWindows()"
   ]
  },
  {
   "cell_type": "code",
   "execution_count": 10,
   "id": "solid-dragon",
   "metadata": {},
   "outputs": [],
   "source": [
    "photo1_crop = photo1[80:425,50:210].copy()\n",
    "photo2_crop = photo2[20:365,190:350].copy()\n",
    "photo1_face = photo1[85:190,270:370].copy()\n",
    "photo2_face = photo2[0:105,45:145].copy()\n",
    "# swap\n",
    "photo1[80:425,50:210] = photo2_crop\n",
    "photo2[20:365,190:350] = photo1_crop\n",
    "photo2[0:105,45:145] = photo1_face\n",
    "photo1[85:190,270:370] = photo2_face\n"
   ]
  },
  {
   "cell_type": "code",
   "execution_count": 11,
   "id": "indian-center",
   "metadata": {},
   "outputs": [],
   "source": [
    "cv2.imshow(\"photo1_new\", photo1)\n",
    "cv2.imshow(\"photo2_new\", photo2)\n",
    "cv2.waitKey()    \n",
    "cv2.destroyAllWindows()"
   ]
  },
  {
   "cell_type": "code",
   "execution_count": 12,
   "id": "tracked-center",
   "metadata": {},
   "outputs": [],
   "source": [
    "# Creating Collage"
   ]
  },
  {
   "cell_type": "code",
   "execution_count": 13,
   "id": "deadly-apartment",
   "metadata": {},
   "outputs": [],
   "source": [
    "pic1 = cv2.imread('pic1.jpg')\n",
    "pic2 = cv2.imread('pic2.jpg')\n",
    "pic3 = cv2.imread('pic3.jpg')\n",
    "pic4 = cv2.imread('pic4.jpg')\n",
    "pic5 = cv2.imread('pic5.jpg')\n",
    "cv2.imshow(\"pic1\", pic1)  \n",
    "cv2.imshow(\"pic2\", pic2)\n",
    "cv2.imshow(\"pic3\", pic3)\n",
    "cv2.imshow(\"pic4\", pic4)\n",
    "cv2.imshow(\"pic5\", pic5)\n",
    "cv2.waitKey()    \n",
    "cv2.destroyAllWindows()"
   ]
  },
  {
   "cell_type": "code",
   "execution_count": 14,
   "id": "statutory-princeton",
   "metadata": {},
   "outputs": [],
   "source": [
    "def crop(img):\n",
    "    a = img.shape[1]//2\n",
    "    b = img.shape[0]//2\n",
    "    c = img.shape[0]\n",
    "    d = img.shape[1]\n",
    "    # coordinates of shape to crop from image\n",
    "    pts = numpy.array([[a,0],[0,b],[a,c],[d,b]])\n",
    "\n",
    "    # Crop the bounding rect\n",
    "    pts = pts - pts.min(axis=0)\n",
    "    mask = numpy.zeros(img.shape[:2], numpy.uint8)\n",
    "    cv2.drawContours(mask, [pts], -1, (255, 255, 255), -1, cv2.LINE_AA)\n",
    "    # do bit-op\n",
    "    dst = cv2.bitwise_and(img, img, mask=mask)\n",
    "    # add the white background\n",
    "    bg = numpy.ones_like(img, numpy.uint8)*255\n",
    "    cv2.bitwise_not(bg,bg, mask=mask)\n",
    "    dst2 = bg+ dst\n",
    "\n",
    "    cv2.line(dst2, (a,0), (0,b), [128,0,0], 2)\n",
    "    cv2.line(dst2, (a,c), (0,b), [128,0,0], 2)\n",
    "    cv2.line(dst2, (d,b), (a,c), [128,0,0], 2)\n",
    "    cv2.line(dst2, (a,0), (d,b), [128,0,0], 2)\n",
    "    return dst2    "
   ]
  },
  {
   "cell_type": "code",
   "execution_count": 15,
   "id": "senior-optimum",
   "metadata": {},
   "outputs": [],
   "source": [
    "# putting all images into a collage\n",
    "collage = numpy.zeros((800,800,3), numpy.uint8)\n",
    "collage[:] = [255,255,255]\n",
    "collage[250:550,250:550] = crop(pic1)     # middle\n",
    "collage[25:325,25:325] = crop(pic2)       # top left\n",
    "collage[25:325,475:775] = crop(pic3)      # top right\n",
    "collage[475:775,25:325] = crop(pic4)      # bottom left\n",
    "collage[475:775,475:775] = crop(pic5)     # bottom right\n",
    "cv2.line(collage, (0,575), (575,0), [128,0,0], 5)\n",
    "cv2.line(collage, (225,0), (800,575), [128,0,0], 5)\n",
    "cv2.line(collage, (0,225), (575,800), [128,0,0], 5)\n",
    "cv2.line(collage, (800,225), (225,800), [128,0,0], 5)\n",
    "cv2.imshow(\"collage\", collage)\n",
    "cv2.waitKey()\n",
    "cv2.destroyAllWindows()"
   ]
  },
  {
   "cell_type": "code",
   "execution_count": null,
   "id": "useful-shoulder",
   "metadata": {},
   "outputs": [],
   "source": []
  }
 ],
 "metadata": {
  "kernelspec": {
   "display_name": "Python 3",
   "language": "python",
   "name": "python3"
  },
  "language_info": {
   "codemirror_mode": {
    "name": "ipython",
    "version": 3
   },
   "file_extension": ".py",
   "mimetype": "text/x-python",
   "name": "python",
   "nbconvert_exporter": "python",
   "pygments_lexer": "ipython3",
   "version": "3.7.9"
  }
 },
 "nbformat": 4,
 "nbformat_minor": 5
}
